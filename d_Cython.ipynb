{
  "nbformat": 4,
  "nbformat_minor": 0,
  "metadata": {
    "colab": {
      "name": "Untitled5.ipynb",
      "provenance": [],
      "collapsed_sections": []
    },
    "kernelspec": {
      "name": "python3",
      "display_name": "Python 3"
    },
    "language_info": {
      "name": "python"
    }
  },
  "cells": [
    {
      "cell_type": "code",
      "metadata": {
        "id": "irwVxvZfn8GD",
        "colab": {
          "base_uri": "https://localhost:8080/"
        },
        "outputId": "533f4fed-dad6-4ea2-baa5-6cb2db75858f"
      },
      "source": [
        "%load_ext cython"
      ],
      "execution_count": 9,
      "outputs": [
        {
          "output_type": "stream",
          "text": [
            "The cython extension is already loaded. To reload it, use:\n",
            "  %reload_ext cython\n"
          ],
          "name": "stdout"
        }
      ]
    },
    {
      "cell_type": "code",
      "metadata": {
        "id": "zC8Fc-LEcek6"
      },
      "source": [
        "%%cython\n",
        "import cython\n",
        "import numpy as np\n",
        "\n",
        "cdef int mandelbrot(double creal, double cimag, int maxiter):\n",
        "    cdef:\n",
        "        double real2, imag2\n",
        "        double real = creal, imag = cimag\n",
        "        int n\n",
        "\n",
        "    for n in range(maxiter):\n",
        "        real2 = real*real\n",
        "        imag2 = imag*imag\n",
        "        if real2 + imag2 > 2.0:\n",
        "            return n\n",
        "        imag = 2* real*imag + cimag\n",
        "        real = real2 - imag2 + creal;\n",
        "    return 0\n",
        "\n",
        "@cython.boundscheck(False) \n",
        "@cython.wraparound(False)\n",
        "cpdef mandelbrot_set(double xmin, double xmax, double ymin, double ymax, int width, int height, int maxiter):\n",
        "    cdef:\n",
        "        double[:] r1 = np.linspace(xmin, xmax, width)\n",
        "        double[:] r2 = np.linspace(ymin, ymax, height)\n",
        "        int[:,:] n3 = np.empty((width,height), np.int32)\n",
        "        int i,j\n",
        "    \n",
        "    for i in range(width):\n",
        "        for j in range(height):\n",
        "            n3[i,j] = mandelbrot(r1[i], r2[j], maxiter)\n",
        "     \n",
        "    return (n3)\n"
      ],
      "execution_count": 10,
      "outputs": []
    },
    {
      "cell_type": "code",
      "metadata": {
        "id": "kmlRrAK7eBYf",
        "colab": {
          "base_uri": "https://localhost:8080/",
          "height": 286
        },
        "outputId": "62ae2cca-ee17-4b53-dfef-26b730ec8930"
      },
      "source": [
        "import numpy as np\n",
        "from matplotlib import pyplot as plt\n",
        "import h5py\n",
        "import time\n",
        "\n",
        "%matplotlib inline\n",
        "start = time.time()\n",
        "N = mandelbrot_set(-2.0,1.0,-1.5,1.5,5000,5000,80)\n",
        "print(\"computation time\", time.time()-start)\n",
        "h5f = h5py.File('cython.h5', 'w')\n",
        "h5f.create_dataset('dataset_1', data=N)\n",
        "h5f.close()\n",
        "\n",
        "result = np.reshape(N.T, (5000, 5000))\n",
        "plt.imshow(result, cmap=plt.cm.hot)\n",
        "plt.savefig('cython.png')"
      ],
      "execution_count": 11,
      "outputs": [
        {
          "output_type": "stream",
          "text": [
            "computation time 1.4954829216003418\n"
          ],
          "name": "stdout"
        },
        {
          "output_type": "display_data",
          "data": {
            "image/png": "[encoded data removed]",
            "text/plain": [
              "<Figure size 432x288 with 1 Axes>"
            ]
          },
          "metadata": {
            "tags": [],
            "needs_background": "light"
          }
        }
      ]
    }
  ]
}